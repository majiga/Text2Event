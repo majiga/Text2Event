{
 "cells": [
  {
   "cell_type": "markdown",
   "metadata": {},
   "source": [
    "# Visualise the events on WA map\n",
    "\n",
    "Source: https://towardsdatascience.com/mapping-australian-geograph-data-in-python-36c53a8a74fe\n",
    "\n",
    "Map data: https://www.matthewproctor.com/australian_postcodes\n",
    "\n",
    "Tutorial on Folium: https://python-visualization.github.io/folium/quickstart.html"
   ]
  },
  {
   "cell_type": "code",
   "execution_count": 45,
   "metadata": {},
   "outputs": [
    {
     "data": {
      "text/html": [
       "<div>\n",
       "<style scoped>\n",
       "    .dataframe tbody tr th:only-of-type {\n",
       "        vertical-align: middle;\n",
       "    }\n",
       "\n",
       "    .dataframe tbody tr th {\n",
       "        vertical-align: top;\n",
       "    }\n",
       "\n",
       "    .dataframe thead th {\n",
       "        text-align: right;\n",
       "    }\n",
       "</style>\n",
       "<table border=\"1\" class=\"dataframe\">\n",
       "  <thead>\n",
       "    <tr style=\"text-align: right;\">\n",
       "      <th></th>\n",
       "      <th>event_id</th>\n",
       "      <th>locality</th>\n",
       "      <th>long</th>\n",
       "      <th>lat</th>\n",
       "      <th>dc</th>\n",
       "      <th>postcode</th>\n",
       "      <th>event_type</th>\n",
       "      <th>event_outcome</th>\n",
       "      <th>event_details</th>\n",
       "      <th>source_file</th>\n",
       "    </tr>\n",
       "  </thead>\n",
       "  <tbody>\n",
       "    <tr>\n",
       "      <th>0</th>\n",
       "      <td>filename1_0001</td>\n",
       "      <td>GASCOYNE JUNCTION</td>\n",
       "      <td>115.011494</td>\n",
       "      <td>-25.111289</td>\n",
       "      <td>CARNARVON POST SHOP</td>\n",
       "      <td>6705</td>\n",
       "      <td>NaN</td>\n",
       "      <td>NaN</td>\n",
       "      <td>mineral: silver; copper</td>\n",
       "      <td>filename1.json</td>\n",
       "    </tr>\n",
       "    <tr>\n",
       "      <th>1</th>\n",
       "      <td>filename1_0002</td>\n",
       "      <td>DAMPIER</td>\n",
       "      <td>116.709548</td>\n",
       "      <td>-20.676313</td>\n",
       "      <td>KARRATHA</td>\n",
       "      <td>6713</td>\n",
       "      <td>NaN</td>\n",
       "      <td>NaN</td>\n",
       "      <td>ore_deposit: iron ore</td>\n",
       "      <td>filename1.json</td>\n",
       "    </tr>\n",
       "    <tr>\n",
       "      <th>2</th>\n",
       "      <td>filename1_0003</td>\n",
       "      <td>KARRATHA</td>\n",
       "      <td>116.349933</td>\n",
       "      <td>-21.145063</td>\n",
       "      <td>KARRATHA</td>\n",
       "      <td>6714</td>\n",
       "      <td>unsuccessul</td>\n",
       "      <td>no minerals</td>\n",
       "      <td>mineral: gold; stratigraphy: TBA; ore_deposit:...</td>\n",
       "      <td>filename1.json</td>\n",
       "    </tr>\n",
       "    <tr>\n",
       "      <th>3</th>\n",
       "      <td>filename2_0001</td>\n",
       "      <td>HAMERSLEY RANGE</td>\n",
       "      <td>116.311985</td>\n",
       "      <td>-21.605319</td>\n",
       "      <td>PANNAWONICA LPO</td>\n",
       "      <td>6716</td>\n",
       "      <td>near-miss</td>\n",
       "      <td>possible nickel and copper</td>\n",
       "      <td>mineral: nickel; copper; stratigraphy: some st...</td>\n",
       "      <td>filename2.json</td>\n",
       "    </tr>\n",
       "    <tr>\n",
       "      <th>4</th>\n",
       "      <td>filename2_0002</td>\n",
       "      <td>ROEBOURNE</td>\n",
       "      <td>117.740969</td>\n",
       "      <td>-20.971499</td>\n",
       "      <td>ROEBOURNE LPO</td>\n",
       "      <td>6718</td>\n",
       "      <td>unsuccessful</td>\n",
       "      <td>no silver found</td>\n",
       "      <td>mineral: silver; stratigraphy: TBA; ore_deposi...</td>\n",
       "      <td>filename2.json</td>\n",
       "    </tr>\n",
       "  </tbody>\n",
       "</table>\n",
       "</div>"
      ],
      "text/plain": [
       "         event_id           locality        long        lat  \\\n",
       "0  filename1_0001  GASCOYNE JUNCTION  115.011494 -25.111289   \n",
       "1  filename1_0002            DAMPIER  116.709548 -20.676313   \n",
       "2  filename1_0003           KARRATHA  116.349933 -21.145063   \n",
       "3  filename2_0001    HAMERSLEY RANGE  116.311985 -21.605319   \n",
       "4  filename2_0002          ROEBOURNE  117.740969 -20.971499   \n",
       "\n",
       "                    dc  postcode    event_type               event_outcome  \\\n",
       "0  CARNARVON POST SHOP      6705           NaN                         NaN   \n",
       "1             KARRATHA      6713           NaN                         NaN   \n",
       "2             KARRATHA      6714   unsuccessul                 no minerals   \n",
       "3      PANNAWONICA LPO      6716     near-miss  possible nickel and copper   \n",
       "4        ROEBOURNE LPO      6718  unsuccessful             no silver found   \n",
       "\n",
       "                                       event_details     source_file  \n",
       "0                            mineral: silver; copper  filename1.json  \n",
       "1                              ore_deposit: iron ore  filename1.json  \n",
       "2  mineral: gold; stratigraphy: TBA; ore_deposit:...  filename1.json  \n",
       "3  mineral: nickel; copper; stratigraphy: some st...  filename2.json  \n",
       "4  mineral: silver; stratigraphy: TBA; ore_deposi...  filename2.json  "
      ]
     },
     "execution_count": 45,
     "metadata": {},
     "output_type": "execute_result"
    }
   ],
   "source": [
    "#!pip install folium\n",
    "import folium\n",
    "import pandas as pd\n",
    "df = pd.read_csv(\"../data/events.csv\") \n",
    "df.head()"
   ]
  },
  {
   "cell_type": "code",
   "execution_count": 46,
   "metadata": {},
   "outputs": [
    {
     "data": {
      "text/html": [
       "<div style=\"width:100%;\"><div style=\"position:relative;width:100%;height:0;padding-bottom:60%;\"><span style=\"color:#565656\">Make this Notebook Trusted to load map: File -> Trust Notebook</span><iframe src=\"about:blank\" style=\"position:absolute;width:100%;height:100%;left:0;top:0;border:none !important;\" data-html=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 onload=\"this.contentDocument.open();this.contentDocument.write(atob(this.getAttribute('data-html')));this.contentDocument.close();\" allowfullscreen webkitallowfullscreen mozallowfullscreen></iframe></div></div>"
      ],
      "text/plain": [
       "<folium.folium.Map at 0x17384b669b0>"
      ]
     },
     "execution_count": 46,
     "metadata": {},
     "output_type": "execute_result"
    }
   ],
   "source": [
    "#m = folium.Map([-38.043995, 145.264296], zoom_start=8) # Melbourne\n",
    "m = folium.Map(location=[-20.710799, 118.441716], zoom_start=8) # Port Hedland\n",
    "#m = folium.Map(location=[-31.908357, 115.814562], zoom_start=12) # Osbourne Park 115.814562,-31.908357\n",
    "\n",
    "for index, row in df.iterrows():\n",
    "    if not str(row['event_type']) == 'nan':\n",
    "        folium.Marker([row['lat'], row['long']],\n",
    "                      popup=str('ID: ' + row['event_id']) +\n",
    "                      '; Type: ' + str(row['event_type']) +\n",
    "                      '; Outcome:' + str(row['event_outcome']) +\n",
    "                      #'; Source:' + str(row['source_file']) +\n",
    "                      '; ' + str(row['event_details']),\n",
    "                      tooltip=str(row['locality']) + ', ' + str(row['dc']),\n",
    "                     ).add_to(m)\n",
    "m"
   ]
  },
  {
   "cell_type": "code",
   "execution_count": 12,
   "metadata": {},
   "outputs": [],
   "source": []
  }
 ],
 "metadata": {
  "kernelspec": {
   "display_name": "Python 3",
   "language": "python",
   "name": "python3"
  },
  "language_info": {
   "codemirror_mode": {
    "name": "ipython",
    "version": 3
   },
   "file_extension": ".py",
   "mimetype": "text/x-python",
   "name": "python",
   "nbconvert_exporter": "python",
   "pygments_lexer": "ipython3",
   "version": "3.7.3"
  }
 },
 "nbformat": 4,
 "nbformat_minor": 2
}
