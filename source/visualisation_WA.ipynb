{
 "cells": [
  {
   "cell_type": "markdown",
   "metadata": {},
   "source": [
    "# Visualise the events on WA map\n",
    "\n",
    "Source: https://towardsdatascience.com/mapping-australian-geograph-data-in-python-36c53a8a74fe\n",
    "\n",
    "Map data: https://www.matthewproctor.com/australian_postcodes\n",
    "\n",
    "Tutorial on Folium: https://python-visualization.github.io/folium/quickstart.html"
   ]
  },
  {
   "cell_type": "code",
   "execution_count": 49,
   "metadata": {},
   "outputs": [
    {
     "data": {
      "text/html": [
       "<div>\n",
       "<style scoped>\n",
       "    .dataframe tbody tr th:only-of-type {\n",
       "        vertical-align: middle;\n",
       "    }\n",
       "\n",
       "    .dataframe tbody tr th {\n",
       "        vertical-align: top;\n",
       "    }\n",
       "\n",
       "    .dataframe thead th {\n",
       "        text-align: right;\n",
       "    }\n",
       "</style>\n",
       "<table border=\"1\" class=\"dataframe\">\n",
       "  <thead>\n",
       "    <tr style=\"text-align: right;\">\n",
       "      <th></th>\n",
       "      <th>event_id</th>\n",
       "      <th>locality</th>\n",
       "      <th>long</th>\n",
       "      <th>lat</th>\n",
       "      <th>dc</th>\n",
       "      <th>event_type</th>\n",
       "      <th>event_outcome</th>\n",
       "      <th>event_details</th>\n",
       "      <th>source_file</th>\n",
       "    </tr>\n",
       "  </thead>\n",
       "  <tbody>\n",
       "    <tr>\n",
       "      <th>0</th>\n",
       "      <td>filename1_0001</td>\n",
       "      <td>GASCOYNE JUNCTION</td>\n",
       "      <td>115.011494</td>\n",
       "      <td>-25.111289</td>\n",
       "      <td>CARNARVON POST SHOP</td>\n",
       "      <td>NaN</td>\n",
       "      <td>NaN</td>\n",
       "      <td>MINERAL: silver; copper</td>\n",
       "      <td>filename1.json</td>\n",
       "    </tr>\n",
       "    <tr>\n",
       "      <th>1</th>\n",
       "      <td>filename1_0002</td>\n",
       "      <td>DAMPIER</td>\n",
       "      <td>116.709548</td>\n",
       "      <td>-20.676313</td>\n",
       "      <td>KARRATHA</td>\n",
       "      <td>NaN</td>\n",
       "      <td>NaN</td>\n",
       "      <td>ORE_DEPOSIT: iron ore</td>\n",
       "      <td>filename1.json</td>\n",
       "    </tr>\n",
       "    <tr>\n",
       "      <th>2</th>\n",
       "      <td>filename1_0003</td>\n",
       "      <td>KARRATHA</td>\n",
       "      <td>116.349933</td>\n",
       "      <td>-21.145063</td>\n",
       "      <td>KARRATHA</td>\n",
       "      <td>unsuccessul</td>\n",
       "      <td>no minerals</td>\n",
       "      <td>MINERAL: gold; STRAT: greenstone belt; ORE_DEP...</td>\n",
       "      <td>filename1.json</td>\n",
       "    </tr>\n",
       "    <tr>\n",
       "      <th>3</th>\n",
       "      <td>filename2_0001</td>\n",
       "      <td>HAMERSLEY RANGE</td>\n",
       "      <td>116.311985</td>\n",
       "      <td>-21.605319</td>\n",
       "      <td>PANNAWONICA LPO</td>\n",
       "      <td>near-miss</td>\n",
       "      <td>possible nickel and copper</td>\n",
       "      <td>MINERAL: nickel; copper; STRAT: Nammuldi Member</td>\n",
       "      <td>filename2.json</td>\n",
       "    </tr>\n",
       "    <tr>\n",
       "      <th>4</th>\n",
       "      <td>filename2_0002</td>\n",
       "      <td>ROEBOURNE</td>\n",
       "      <td>117.740969</td>\n",
       "      <td>-20.971499</td>\n",
       "      <td>ROEBOURNE LPO</td>\n",
       "      <td>unsuccessful</td>\n",
       "      <td>no silver found</td>\n",
       "      <td>MINERAL: silver; ORE_DEPOSIT: gold deposit; TI...</td>\n",
       "      <td>filename2.json</td>\n",
       "    </tr>\n",
       "  </tbody>\n",
       "</table>\n",
       "</div>"
      ],
      "text/plain": [
       "         event_id           locality        long        lat  \\\n",
       "0  filename1_0001  GASCOYNE JUNCTION  115.011494 -25.111289   \n",
       "1  filename1_0002            DAMPIER  116.709548 -20.676313   \n",
       "2  filename1_0003           KARRATHA  116.349933 -21.145063   \n",
       "3  filename2_0001    HAMERSLEY RANGE  116.311985 -21.605319   \n",
       "4  filename2_0002          ROEBOURNE  117.740969 -20.971499   \n",
       "\n",
       "                    dc    event_type               event_outcome  \\\n",
       "0  CARNARVON POST SHOP           NaN                         NaN   \n",
       "1             KARRATHA           NaN                         NaN   \n",
       "2             KARRATHA   unsuccessul                 no minerals   \n",
       "3      PANNAWONICA LPO     near-miss  possible nickel and copper   \n",
       "4        ROEBOURNE LPO  unsuccessful             no silver found   \n",
       "\n",
       "                                       event_details     source_file  \n",
       "0                            MINERAL: silver; copper  filename1.json  \n",
       "1                              ORE_DEPOSIT: iron ore  filename1.json  \n",
       "2  MINERAL: gold; STRAT: greenstone belt; ORE_DEP...  filename1.json  \n",
       "3    MINERAL: nickel; copper; STRAT: Nammuldi Member  filename2.json  \n",
       "4  MINERAL: silver; ORE_DEPOSIT: gold deposit; TI...  filename2.json  "
      ]
     },
     "execution_count": 49,
     "metadata": {},
     "output_type": "execute_result"
    }
   ],
   "source": [
    "#!pip install folium\n",
    "import folium\n",
    "import pandas as pd\n",
    "df = pd.read_csv(\"../data/events.csv\") \n",
    "df.head()"
   ]
  },
  {
   "cell_type": "code",
   "execution_count": 51,
   "metadata": {},
   "outputs": [
    {
     "data": {
      "text/html": [
       "<div style=\"width:100%;\"><div style=\"position:relative;width:100%;height:0;padding-bottom:60%;\"><span style=\"color:#565656\">Make this Notebook Trusted to load map: File -> Trust Notebook</span><iframe src=\"about:blank\" style=\"position:absolute;width:100%;height:100%;left:0;top:0;border:none !important;\" data-html=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 onload=\"this.contentDocument.open();this.contentDocument.write(atob(this.getAttribute('data-html')));this.contentDocument.close();\" allowfullscreen webkitallowfullscreen mozallowfullscreen></iframe></div></div>"
      ],
      "text/plain": [
       "<folium.folium.Map at 0x17384bc3a90>"
      ]
     },
     "execution_count": 51,
     "metadata": {},
     "output_type": "execute_result"
    }
   ],
   "source": [
    "#m = folium.Map([-38.043995, 145.264296], zoom_start=8) # Melbourne\n",
    "m = folium.Map(location=[-20.710799, 118.441716], zoom_start=8) # Port Hedland\n",
    "#m = folium.Map(location=[-31.908357, 115.814562], zoom_start=12) # Osbourne Park 115.814562,-31.908357\n",
    "\n",
    "for index, row in df.iterrows():\n",
    "    if not str(row['event_type']) == 'nan':\n",
    "        folium.Marker([row['lat'], row['long']],\n",
    "                      popup=str('ID: ' + row['event_id']) +\n",
    "                      '; TYPE: ' + str(row['event_type']) +\n",
    "                      '; OUTCOME:' + str(row['event_outcome']) +\n",
    "                      #'; Source:' + str(row['source_file']) +\n",
    "                      '; ' + str(row['event_details']),\n",
    "                      tooltip=str(row['locality']) + ', ' + str(row['dc']),\n",
    "                     ).add_to(m)\n",
    "m"
   ]
  },
  {
   "cell_type": "code",
   "execution_count": 12,
   "metadata": {},
   "outputs": [],
   "source": []
  }
 ],
 "metadata": {
  "kernelspec": {
   "display_name": "Python 3",
   "language": "python",
   "name": "python3"
  },
  "language_info": {
   "codemirror_mode": {
    "name": "ipython",
    "version": 3
   },
   "file_extension": ".py",
   "mimetype": "text/x-python",
   "name": "python",
   "nbconvert_exporter": "python",
   "pygments_lexer": "ipython3",
   "version": "3.7.3"
  }
 },
 "nbformat": 4,
 "nbformat_minor": 2
}
