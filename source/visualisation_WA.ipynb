{
 "cells": [
  {
   "cell_type": "markdown",
   "metadata": {},
   "source": [
    "# Visualise the events on WA map\n",
    "\n",
    "Source: https://towardsdatascience.com/mapping-australian-geograph-data-in-python-36c53a8a74fe\n",
    "\n",
    "Map data: https://www.matthewproctor.com/australian_postcodes\n",
    "\n",
    "Tutorial on Folium: https://python-visualization.github.io/folium/quickstart.html"
   ]
  },
  {
   "cell_type": "code",
   "execution_count": 49,
   "metadata": {},
   "outputs": [
    {
     "data": {
      "text/html": [
       "<div>\n",
       "<style scoped>\n",
       "    .dataframe tbody tr th:only-of-type {\n",
       "        vertical-align: middle;\n",
       "    }\n",
       "\n",
       "    .dataframe tbody tr th {\n",
       "        vertical-align: top;\n",
       "    }\n",
       "\n",
       "    .dataframe thead th {\n",
       "        text-align: right;\n",
       "    }\n",
       "</style>\n",
       "<table border=\"1\" class=\"dataframe\">\n",
       "  <thead>\n",
       "    <tr style=\"text-align: right;\">\n",
       "      <th></th>\n",
       "      <th>event_id</th>\n",
       "      <th>locality</th>\n",
       "      <th>long</th>\n",
       "      <th>lat</th>\n",
       "      <th>dc</th>\n",
       "      <th>event_type</th>\n",
       "      <th>event_outcome</th>\n",
       "      <th>event_details</th>\n",
       "      <th>source_file</th>\n",
       "    </tr>\n",
       "  </thead>\n",
       "  <tbody>\n",
       "    <tr>\n",
       "      <th>0</th>\n",
       "      <td>filename1_0001</td>\n",
       "      <td>GASCOYNE JUNCTION</td>\n",
       "      <td>115.011494</td>\n",
       "      <td>-25.111289</td>\n",
       "      <td>CARNARVON POST SHOP</td>\n",
       "      <td>NaN</td>\n",
       "      <td>NaN</td>\n",
       "      <td>MINERAL: silver; copper</td>\n",
       "      <td>filename1.json</td>\n",
       "    </tr>\n",
       "    <tr>\n",
       "      <th>1</th>\n",
       "      <td>filename1_0002</td>\n",
       "      <td>DAMPIER</td>\n",
       "      <td>116.709548</td>\n",
       "      <td>-20.676313</td>\n",
       "      <td>KARRATHA</td>\n",
       "      <td>NaN</td>\n",
       "      <td>NaN</td>\n",
       "      <td>ORE_DEPOSIT: iron ore</td>\n",
       "      <td>filename1.json</td>\n",
       "    </tr>\n",
       "    <tr>\n",
       "      <th>2</th>\n",
       "      <td>filename1_0003</td>\n",
       "      <td>KARRATHA</td>\n",
       "      <td>116.349933</td>\n",
       "      <td>-21.145063</td>\n",
       "      <td>KARRATHA</td>\n",
       "      <td>unsuccessul</td>\n",
       "      <td>no minerals</td>\n",
       "      <td>MINERAL: gold; STRAT: greenstone belt; ORE_DEP...</td>\n",
       "      <td>filename1.json</td>\n",
       "    </tr>\n",
       "    <tr>\n",
       "      <th>3</th>\n",
       "      <td>filename2_0001</td>\n",
       "      <td>HAMERSLEY RANGE</td>\n",
       "      <td>116.311985</td>\n",
       "      <td>-21.605319</td>\n",
       "      <td>PANNAWONICA LPO</td>\n",
       "      <td>near-miss</td>\n",
       "      <td>possible nickel and copper</td>\n",
       "      <td>MINERAL: nickel; copper; STRAT: Nammuldi Member</td>\n",
       "      <td>filename2.json</td>\n",
       "    </tr>\n",
       "    <tr>\n",
       "      <th>4</th>\n",
       "      <td>filename2_0002</td>\n",
       "      <td>ROEBOURNE</td>\n",
       "      <td>117.740969</td>\n",
       "      <td>-20.971499</td>\n",
       "      <td>ROEBOURNE LPO</td>\n",
       "      <td>unsuccessful</td>\n",
       "      <td>no silver found</td>\n",
       "      <td>MINERAL: silver; ORE_DEPOSIT: gold deposit; TI...</td>\n",
       "      <td>filename2.json</td>\n",
       "    </tr>\n",
       "  </tbody>\n",
       "</table>\n",
       "</div>"
      ],
      "text/plain": [
       "         event_id           locality        long        lat  \\\n",
       "0  filename1_0001  GASCOYNE JUNCTION  115.011494 -25.111289   \n",
       "1  filename1_0002            DAMPIER  116.709548 -20.676313   \n",
       "2  filename1_0003           KARRATHA  116.349933 -21.145063   \n",
       "3  filename2_0001    HAMERSLEY RANGE  116.311985 -21.605319   \n",
       "4  filename2_0002          ROEBOURNE  117.740969 -20.971499   \n",
       "\n",
       "                    dc    event_type               event_outcome  \\\n",
       "0  CARNARVON POST SHOP           NaN                         NaN   \n",
       "1             KARRATHA           NaN                         NaN   \n",
       "2             KARRATHA   unsuccessul                 no minerals   \n",
       "3      PANNAWONICA LPO     near-miss  possible nickel and copper   \n",
       "4        ROEBOURNE LPO  unsuccessful             no silver found   \n",
       "\n",
       "                                       event_details     source_file  \n",
       "0                            MINERAL: silver; copper  filename1.json  \n",
       "1                              ORE_DEPOSIT: iron ore  filename1.json  \n",
       "2  MINERAL: gold; STRAT: greenstone belt; ORE_DEP...  filename1.json  \n",
       "3    MINERAL: nickel; copper; STRAT: Nammuldi Member  filename2.json  \n",
       "4  MINERAL: silver; ORE_DEPOSIT: gold deposit; TI...  filename2.json  "
      ]
     },
     "execution_count": 49,
     "metadata": {},
     "output_type": "execute_result"
    }
   ],
   "source": [
    "#!pip install folium\n",
    "import folium\n",
    "import pandas as pd\n",
    "df = pd.read_csv(\"../data/events.csv\") \n",
    "df.head()"
   ]
  },
  {
   "cell_type": "code",
   "execution_count": 50,
   "metadata": {},
   "outputs": [
    {
     "data": {
      "text/html": [
       "<div style=\"width:100%;\"><div style=\"position:relative;width:100%;height:0;padding-bottom:60%;\"><span style=\"color:#565656\">Make this Notebook Trusted to load map: File -> Trust Notebook</span><iframe src=\"about:blank\" style=\"position:absolute;width:100%;height:100%;left:0;top:0;border:none !important;\" data-html=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 onload=\"this.contentDocument.open();this.contentDocument.write(atob(this.getAttribute('data-html')));this.contentDocument.close();\" allowfullscreen webkitallowfullscreen mozallowfullscreen></iframe></div></div>"
      ],
      "text/plain": [
       "<folium.folium.Map at 0x17384b99cc0>"
      ]
     },
     "execution_count": 50,
     "metadata": {},
     "output_type": "execute_result"
    }
   ],
   "source": [
    "#m = folium.Map([-38.043995, 145.264296], zoom_start=8) # Melbourne\n",
    "m = folium.Map(location=[-20.710799, 118.441716], zoom_start=8) # Port Hedland\n",
    "#m = folium.Map(location=[-31.908357, 115.814562], zoom_start=12) # Osbourne Park 115.814562,-31.908357\n",
    "\n",
    "for index, row in df.iterrows():\n",
    "    if not str(row['event_type']) == 'nan':\n",
    "        folium.Marker([row['lat'], row['long']],\n",
    "                      popup=str('ID: ' + row['event_id']) +\n",
    "                      '; Type: ' + str(row['event_type']) +\n",
    "                      '; Outcome:' + str(row['event_outcome']) +\n",
    "                      #'; Source:' + str(row['source_file']) +\n",
    "                      '; ' + str(row['event_details']),\n",
    "                      tooltip=str(row['locality']) + ', ' + str(row['dc']),\n",
    "                     ).add_to(m)\n",
    "m"
   ]
  },
  {
   "cell_type": "code",
   "execution_count": 12,
   "metadata": {},
   "outputs": [],
   "source": []
  }
 ],
 "metadata": {
  "kernelspec": {
   "display_name": "Python 3",
   "language": "python",
   "name": "python3"
  },
  "language_info": {
   "codemirror_mode": {
    "name": "ipython",
    "version": 3
   },
   "file_extension": ".py",
   "mimetype": "text/x-python",
   "name": "python",
   "nbconvert_exporter": "python",
   "pygments_lexer": "ipython3",
   "version": "3.7.3"
  }
 },
 "nbformat": 4,
 "nbformat_minor": 2
}
